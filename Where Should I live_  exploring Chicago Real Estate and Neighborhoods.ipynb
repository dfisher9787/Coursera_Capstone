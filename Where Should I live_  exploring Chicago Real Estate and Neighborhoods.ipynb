{
 "cells": [
  {
   "cell_type": "markdown",
   "metadata": {},
   "source": [
    "## Introduction/Business Problem:\n",
    "\n",
    "I am a young professional who will be moving to Chicago and looking for a place to live.  My fundamental business question is where will I be happiest in Chicago?  There are a number of questions I need to concider when choosing where I will ulimately buy my new home.  \n",
    "\n",
    "First is what is available within my budget?  Can I afford a house or a small condo? What fees other fees bring up my monthly payments?\n",
    "\n",
    "Second what are the neigborhood characteristics available near the homes I can afford? Are there problems with crime in the area?  How close are the nearest public transpertation spots?  What social activities are in the area? e.g. bars, restaurants?   I enjoy working out and running - so what gyms are in the area? How close are theses areas to my work?  are they close to other major landmarks like close to lake michica or Wrigleyville?  \n",
    "\n"
   ]
  },
  {
   "cell_type": "markdown",
   "metadata": {},
   "source": [
    "## Data to be incorporated\n",
    "\n",
    "There are three primary data sources I will be using.  \n",
    "\n",
    "The first is the active real estate data with is currently listed on Redfin.com.  From redfin I will be able to query all currnet active listings and a number of their attributes, such as price, bedrooms, neighborhood, HOA, etc.  I will load these listings into my python script.  in addtion to the standard data in the redfin data feed, i will be adding an number other variables such as mortgage payments and total monthly budget for living in this property.\n",
    "\n",
    "The second will be the crime data for the city of Chicago, this is available through a number of sources such as data.cityofchicago.org.  i will agregate this data into the neigborhoods and develop a neighborhood score to append to the current realestate listing. \n",
    "\n",
    "The third and final data source will be the fourspare API for the general exploration of the negiborhoods. Using the potential housing available I will explore the different neighborhoods and ultimately choose the best houses to make offers on and in the final report I will outline the strengths and weaknesses of a number of the final options.\n"
   ]
  },
  {
   "cell_type": "code",
   "execution_count": 3,
   "metadata": {},
   "outputs": [
    {
     "name": "stdout",
     "output_type": "stream",
     "text": [
      "\u001b[31mERROR: Could not open requirements file: [Errno 2] No such file or directory: 'requirements.txt'\u001b[0m\n",
      "Note: you may need to restart the kernel to use updated packages.\n"
     ]
    }
   ],
   "source": [
    "source /path/to/venv/bin/activate \n",
    "pip install -r requirements.txt"
   ]
  },
  {
   "cell_type": "code",
   "execution_count": 4,
   "metadata": {},
   "outputs": [
    {
     "ename": "ModuleNotFoundError",
     "evalue": "No module named 'redfin'",
     "output_type": "error",
     "traceback": [
      "\u001b[0;31m---------------------------------------------------------------------------\u001b[0m",
      "\u001b[0;31mModuleNotFoundError\u001b[0m                       Traceback (most recent call last)",
      "\u001b[0;32m<ipython-input-4-8b5ff990c0b9>\u001b[0m in \u001b[0;36m<module>\u001b[0;34m\u001b[0m\n\u001b[0;32m----> 1\u001b[0;31m \u001b[0;32mfrom\u001b[0m \u001b[0mredfin\u001b[0m \u001b[0;32mimport\u001b[0m \u001b[0mRedFin\u001b[0m\u001b[0;34m\u001b[0m\u001b[0;34m\u001b[0m\u001b[0m\n\u001b[0m\u001b[1;32m      2\u001b[0m \u001b[0;34m\u001b[0m\u001b[0m\n\u001b[1;32m      3\u001b[0m \u001b[0mredfin\u001b[0m \u001b[0;34m=\u001b[0m \u001b[0mRedFin\u001b[0m\u001b[0;34m(\u001b[0m\u001b[0;34m)\u001b[0m\u001b[0;34m\u001b[0m\u001b[0;34m\u001b[0m\u001b[0m\n\u001b[1;32m      4\u001b[0m \u001b[0mredfin\u001b[0m\u001b[0;34m.\u001b[0m\u001b[0mget_search_results\u001b[0m\u001b[0;34m(\u001b[0m\u001b[0;34m)\u001b[0m\u001b[0;34m\u001b[0m\u001b[0;34m\u001b[0m\u001b[0m\n\u001b[1;32m      5\u001b[0m \u001b[0mredfin\u001b[0m\u001b[0;34m.\u001b[0m\u001b[0mget_property_data\u001b[0m\u001b[0;34m(\u001b[0m\u001b[0;34m)\u001b[0m\u001b[0;34m\u001b[0m\u001b[0;34m\u001b[0m\u001b[0m\n",
      "\u001b[0;31mModuleNotFoundError\u001b[0m: No module named 'redfin'"
     ]
    }
   ],
   "source": [
    "from redfin import RedFin\n",
    "\n",
    "redfin = RedFin()\n",
    "redfin.get_search_results()\n",
    "redfin.get_property_data()"
   ]
  },
  {
   "cell_type": "code",
   "execution_count": null,
   "metadata": {},
   "outputs": [],
   "source": []
  }
 ],
 "metadata": {
  "kernelspec": {
   "display_name": "Python 3",
   "language": "python",
   "name": "python3"
  },
  "language_info": {
   "codemirror_mode": {
    "name": "ipython",
    "version": 3
   },
   "file_extension": ".py",
   "mimetype": "text/x-python",
   "name": "python",
   "nbconvert_exporter": "python",
   "pygments_lexer": "ipython3",
   "version": "3.7.6"
  }
 },
 "nbformat": 4,
 "nbformat_minor": 4
}
